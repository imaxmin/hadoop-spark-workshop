{
 "cells": [
  {
   "cell_type": "markdown",
   "metadata": {},
   "source": [
    "# Example: Use pyspark to process GDELT event data\n",
    "GDELT: Global Database of Events, Language, and Tone \n",
    "\n",
    "http://www.gdeltproject.org/ \n",
    "\n",
    "Column Header: http://gdeltproject.org/data/lookups/CSV.header.historical.txt\n",
    "\n",
    "CountryCode: http://gdeltproject.org/data/lookups/CAMEO.country.txt\n",
    "\n",
    "More doc: http://gdeltproject.org/data.html#rawdatafiles"
   ]
  },
  {
   "cell_type": "markdown",
   "metadata": {},
   "source": [
    "Prepare pyspark environment"
   ]
  },
  {
   "cell_type": "code",
   "execution_count": 1,
   "metadata": {
    "collapsed": true
   },
   "outputs": [],
   "source": [
    "import findspark\n",
    "import os\n",
    "findspark.init('/home/ubuntu/shortcourse/spark-1.5.1-bin-hadoop2.6')\n",
    "\n",
    "from pyspark import SparkContext, SparkConf\n",
    "conf = SparkConf().setAppName(\"pyspark-example\").setMaster(\"local[2]\")\n",
    "sc = SparkContext(conf=conf)"
   ]
  },
  {
   "cell_type": "markdown",
   "metadata": {},
   "source": [
    "First start by seeing that there does exist a SparkContext object in the sc variable:"
   ]
  },
  {
   "cell_type": "code",
   "execution_count": 2,
   "metadata": {
    "collapsed": false
   },
   "outputs": [
    {
     "name": "stdout",
     "output_type": "stream",
     "text": [
      "<pyspark.context.SparkContext object at 0xaf8952ac>\n"
     ]
    }
   ],
   "source": [
    "print sc"
   ]
  },
  {
   "cell_type": "markdown",
   "metadata": {},
   "source": [
    "Now let's load an RDD with some interesting data. We have the GDELT event data set on our VM as a tab-delimited text file. (Due to VM storage and compute power limitation, we only choose year 2001.)"
   ]
  },
  {
   "cell_type": "code",
   "execution_count": 3,
   "metadata": {
    "collapsed": true
   },
   "outputs": [],
   "source": [
    "raw_events = sc.textFile('/home/ubuntu/shortcourse/data/gdelt').map(lambda x: x.split('\\t'))\n",
    "# raw_events.cache()"
   ]
  },
  {
   "cell_type": "markdown",
   "metadata": {},
   "source": [
    "Let's see what an object in the RDD looks like"
   ]
  },
  {
   "cell_type": "code",
   "execution_count": 4,
   "metadata": {
    "collapsed": false
   },
   "outputs": [
    {
     "name": "stdout",
     "output_type": "stream",
     "text": [
      "[u'35150069', u'20010101', u'200101', u'2001', u'2001.0027', u'', u'', u'', u'', u'', u'', u'', u'', u'', u'', u'AFG', u'AFGHAN', u'AFG', u'', u'', u'', u'', u'', u'', u'', u'0', u'020', u'020', u'02', u'1', u'3', u'9', u'1', u'9', u'5.81545619023003', u'', u'', u'', u'', u'0', u'0', u'0', u'4', u'Kabul, Kabol, Afghanistan', u'AF', u'AF13', u'34.5167', u'69.1833', u'-3378435', u'4', u'Kabul, Kabol, Afghanistan', u'AF', u'AF13', u'34.5167', u'69.1833', u'-3378435', u'20130203']\n"
     ]
    }
   ],
   "source": [
    "print raw_events.first()"
   ]
  },
  {
   "cell_type": "markdown",
   "metadata": {},
   "source": [
    "Let's count the number of events we have. It's an action on the RDD."
   ]
  },
  {
   "cell_type": "code",
   "execution_count": 5,
   "metadata": {
    "collapsed": false
   },
   "outputs": [
    {
     "name": "stdout",
     "output_type": "stream",
     "text": [
      "4995943\n"
     ]
    }
   ],
   "source": [
    "print raw_events.count()"
   ]
  },
  {
   "cell_type": "markdown",
   "metadata": {},
   "source": [
    "We see that we have about 5 million events at our disposal.\n",
    "The GDELT event data set collects geopolitical events that occur around the world. Each event is tagged with a Goldstein scale value that measures the potential for the event to destabilize the country. Let's compute and plot a histogram of the Goldstein scale values across all the events in the database. The Goldstein scale value is present in the 31st field.\n",
    "First, let's make sure that plotting images are set to be displayed inline (see the IPython docs):"
   ]
  },
  {
   "cell_type": "code",
   "execution_count": 6,
   "metadata": {
    "collapsed": true
   },
   "outputs": [],
   "source": [
    "%matplotlib inline\n",
    "import matplotlib.pyplot as plt\n",
    "import numpy as np"
   ]
  },
  {
   "cell_type": "markdown",
   "metadata": {},
   "source": [
    "Now we'll just confirm that all the Goldstein values are indeed between -10 and 10."
   ]
  },
  {
   "cell_type": "code",
   "execution_count": 7,
   "metadata": {
    "collapsed": false
   },
   "outputs": [
    {
     "name": "stdout",
     "output_type": "stream",
     "text": [
      "Min is -10.000000\n",
      "Max is 10.000000\n"
     ]
    }
   ],
   "source": [
    "m = raw_events.map(lambda x: float(x[30])).min()\n",
    "M = raw_events.map(lambda x: float(x[30])).max()\n",
    "print \"Min is %f\\nMax is %f\" % (m, M)"
   ]
  },
  {
   "cell_type": "markdown",
   "metadata": {},
   "source": [
    "Here we compute the histogram. This is slightly hacky."
   ]
  },
  {
   "cell_type": "code",
   "execution_count": 8,
   "metadata": {
    "collapsed": false
   },
   "outputs": [
    {
     "name": "stdout",
     "output_type": "stream",
     "text": [
      "[361427  43191  42173  74599   7369 327620 143987      0 390206 104754\n",
      " 536623 848223 386263 549724 405942 121053  86844 444520  93687  27738]\n"
     ]
    }
   ],
   "source": [
    "bins = np.arange(-10, 11)\n",
    "one_hot = raw_events.map(lambda x: float(x[30])).map(lambda x: np.histogram([x], bins=bins)[0])\n",
    "hist = one_hot.reduce(lambda x, y: x + y)\n",
    "print hist"
   ]
  },
  {
   "cell_type": "code",
   "execution_count": 9,
   "metadata": {
    "collapsed": false
   },
   "outputs": [
    {
     "data": {
      "image/png": "[encoded data removed]",
      "text/plain": [
       "<matplotlib.figure.Figure at 0xae969f4c>"
      ]
     },
     "metadata": {},
     "output_type": "display_data"
    }
   ],
   "source": [
    "fig = plt.figure()\n",
    "ax = fig.add_subplot(111)\n",
    "t = ax.bar(bins[:-1], hist)"
   ]
  },
  {
   "cell_type": "markdown",
   "metadata": {},
   "source": [
    "We can also plot the number of events each day for the 5 countries that have the most events in the second half of year 2001.\n",
    "\n",
    "First we can see the number of unique countries that are available. Note that we filter out events that don't list a country code."
   ]
  },
  {
   "cell_type": "code",
   "execution_count": 10,
   "metadata": {
    "collapsed": false
   },
   "outputs": [
    {
     "data": {
      "text/plain": [
       "[u'MCO',\n",
       " u'STP',\n",
       " u'TON',\n",
       " u'BOL',\n",
       " u'CHN',\n",
       " u'ARE',\n",
       " u'ZWE',\n",
       " u'KWT',\n",
       " u'MEA',\n",
       " u'NPL',\n",
       " u'ARG',\n",
       " u'LIE',\n",
       " u'MDV',\n",
       " u'TUN',\n",
       " u'RWA',\n",
       " u'MAR',\n",
       " u'MOZ',\n",
       " u'GMB',\n",
       " u'DEU',\n",
       " u'PSE',\n",
       " u'SCN',\n",
       " u'IRQ',\n",
       " u'KAZ',\n",
       " u'DZA',\n",
       " u'SAM',\n",
       " u'TJK',\n",
       " u'UZB',\n",
       " u'CRB',\n",
       " u'NER',\n",
       " u'PNG',\n",
       " u'HKG',\n",
       " u'LAM',\n",
       " u'TGO',\n",
       " u'ITA',\n",
       " u'MUS',\n",
       " u'BDI',\n",
       " u'HTI',\n",
       " u'LVA',\n",
       " u'TCD',\n",
       " u'AFR',\n",
       " u'LAO',\n",
       " u'KOR',\n",
       " u'PGS',\n",
       " u'ARM',\n",
       " u'SOM',\n",
       " u'PER',\n",
       " u'NOR',\n",
       " u'LSO',\n",
       " u'ROM',\n",
       " u'BLZ',\n",
       " u'IDN',\n",
       " u'SDN',\n",
       " u'SWE',\n",
       " u'CYP',\n",
       " u'HRV',\n",
       " u'FSM',\n",
       " u'SAF',\n",
       " u'SLE',\n",
       " u'MNG',\n",
       " u'LUX',\n",
       " u'MYS',\n",
       " u'POL',\n",
       " u'TZA',\n",
       " u'AUS',\n",
       " u'SHN',\n",
       " u'SGP',\n",
       " u'SYR',\n",
       " u'LBN',\n",
       " u'PLW',\n",
       " u'GUY',\n",
       " u'IRL',\n",
       " u'ASA',\n",
       " u'USA',\n",
       " u'ATG',\n",
       " u'JAM',\n",
       " u'CRI',\n",
       " u'AUT',\n",
       " u'EUR',\n",
       " u'AND',\n",
       " u'BGD',\n",
       " u'VUT',\n",
       " u'CPV',\n",
       " u'IRN',\n",
       " u'SLB',\n",
       " u'PHL',\n",
       " u'JPN',\n",
       " u'SMR',\n",
       " u'BLR',\n",
       " u'LKA',\n",
       " u'SWZ',\n",
       " u'SUR',\n",
       " u'PAK',\n",
       " u'TMP',\n",
       " u'SRB',\n",
       " u'BEN',\n",
       " u'CAS',\n",
       " u'NAF',\n",
       " u'MAC',\n",
       " u'TTO',\n",
       " u'VCT',\n",
       " u'GNQ',\n",
       " u'MMR',\n",
       " u'BRN',\n",
       " u'NLD',\n",
       " u'KNA',\n",
       " u'URY',\n",
       " u'BEL',\n",
       " u'UGA',\n",
       " u'DNK',\n",
       " u'PRK',\n",
       " u'IND',\n",
       " u'PAN',\n",
       " u'ISR',\n",
       " u'NGA',\n",
       " u'MHL',\n",
       " u'HUN',\n",
       " u'FRA',\n",
       " u'SAS',\n",
       " u'BHS',\n",
       " u'GEO',\n",
       " u'OMN',\n",
       " u'PRT',\n",
       " u'CIV',\n",
       " u'GIN',\n",
       " u'BHR',\n",
       " u'CZE',\n",
       " u'MWI',\n",
       " u'CAU',\n",
       " u'FJI',\n",
       " u'SEA',\n",
       " u'DMA',\n",
       " u'TKM',\n",
       " u'GTM',\n",
       " u'MEX',\n",
       " u'KEN',\n",
       " u'NMR',\n",
       " u'LBR',\n",
       " u'SVK',\n",
       " u'NIC',\n",
       " u'MDA',\n",
       " u'MLI',\n",
       " u'KHM',\n",
       " u'SEN',\n",
       " u'BTN',\n",
       " u'GAB',\n",
       " u'EGY',\n",
       " u'VNM',\n",
       " u'SAU',\n",
       " u'VEN',\n",
       " u'AIA',\n",
       " u'NRU',\n",
       " u'QAT',\n",
       " u'AZE',\n",
       " u'AFG',\n",
       " u'MDG',\n",
       " u'NAM',\n",
       " u'COD',\n",
       " u'LCA',\n",
       " u'UKR',\n",
       " u'RUS',\n",
       " u'ALB',\n",
       " u'WSM',\n",
       " u'BGR',\n",
       " u'COG',\n",
       " u'ETH',\n",
       " u'VAT',\n",
       " u'EST',\n",
       " u'CHE',\n",
       " u'WAF',\n",
       " u'CAN',\n",
       " u'BRB',\n",
       " u'NZL',\n",
       " u'LTU',\n",
       " u'LBY',\n",
       " u'TUR',\n",
       " u'GNB',\n",
       " u'GBR',\n",
       " u'THA',\n",
       " u'BRA',\n",
       " u'CUB',\n",
       " u'DOM',\n",
       " u'JOR',\n",
       " u'MRT',\n",
       " u'PRY',\n",
       " u'DJI',\n",
       " u'COK',\n",
       " u'FIN',\n",
       " u'WLF',\n",
       " u'ESP',\n",
       " u'BMU',\n",
       " u'CMR',\n",
       " u'BWA',\n",
       " u'ISL',\n",
       " u'ERI',\n",
       " u'AGO',\n",
       " u'BFA',\n",
       " u'ZMB',\n",
       " u'TUV',\n",
       " u'GRD',\n",
       " u'COM',\n",
       " u'HND',\n",
       " u'KIR',\n",
       " u'KGZ',\n",
       " u'EAF',\n",
       " u'ABW',\n",
       " u'COL',\n",
       " u'SYC',\n",
       " u'YEM',\n",
       " u'ZAF',\n",
       " u'SLV',\n",
       " u'CHL',\n",
       " u'ECU',\n",
       " u'MLT',\n",
       " u'CYM',\n",
       " u'WST',\n",
       " u'MKD',\n",
       " u'CAF',\n",
       " u'GHA',\n",
       " u'GRC']"
      ]
     },
     "execution_count": 10,
     "metadata": {},
     "output_type": "execute_result"
    }
   ],
   "source": [
    "raw_events.filter(lambda x: x[7] != '').map(lambda x: x[7]).distinct().collect()"
   ]
  },
  {
   "cell_type": "markdown",
   "metadata": {},
   "source": [
    "Here we convert each event into counts. We will aggregate by country and day, for all events in the second half of 2001."
   ]
  },
  {
   "cell_type": "code",
   "execution_count": 11,
   "metadata": {
    "collapsed": false
   },
   "outputs": [],
   "source": [
    "events_second_half = raw_events.filter(lambda x: x[7] != '').filter(lambda x: x[1] >= '20010601').filter(lambda x: x[1] <= '20011231')\n",
    "# events_second_half.cache()"
   ]
  },
  {
   "cell_type": "markdown",
   "metadata": {},
   "source": [
    "Count how many qualified events we have."
   ]
  },
  {
   "cell_type": "code",
   "execution_count": 12,
   "metadata": {
    "collapsed": false
   },
   "outputs": [
    {
     "data": {
      "text/plain": [
       "1852211"
      ]
     },
     "execution_count": 12,
     "metadata": {},
     "output_type": "execute_result"
    }
   ],
   "source": [
    "events_second_half.count()"
   ]
  },
  {
   "cell_type": "markdown",
   "metadata": {},
   "source": [
    "Transform the events into key-value pair, key is (countrycode, date), value is event count."
   ]
  },
  {
   "cell_type": "code",
   "execution_count": 13,
   "metadata": {
    "collapsed": true
   },
   "outputs": [],
   "source": [
    "country_day_counts = events_second_half.map(lambda x: ((x[7], x[1]), 1)).reduceByKey(lambda x, y: x + y)\n",
    "# country_day_counts.cache()"
   ]
  },
  {
   "cell_type": "markdown",
   "metadata": {},
   "source": [
    "Show the first five."
   ]
  },
  {
   "cell_type": "code",
   "execution_count": 14,
   "metadata": {
    "collapsed": false
   },
   "outputs": [
    {
     "data": {
      "text/plain": [
       "[((u'CYP', u'20011218'), 21),\n",
       " ((u'DZA', u'20010812'), 18),\n",
       " ((u'PGS', u'20010712'), 1),\n",
       " ((u'QAT', u'20010602'), 11),\n",
       " ((u'LTU', u'20010726'), 57)]"
      ]
     },
     "execution_count": 14,
     "metadata": {},
     "output_type": "execute_result"
    }
   ],
   "source": [
    "country_day_counts.take(5)"
   ]
  },
  {
   "cell_type": "code",
   "execution_count": 15,
   "metadata": {
    "collapsed": true
   },
   "outputs": [],
   "source": [
    "from dateutil.parser import parse as parse_date\n",
    "epoch = parse_date('20010101')\n",
    "def td2s(td):\n",
    "    return (td.microseconds + (td.seconds + td.days * 24 * 3600) * 1000000) / 1e6\n",
    "def day2unix(day):\n",
    "    return td2s(parse_date(day) - epoch)"
   ]
  },
  {
   "cell_type": "markdown",
   "metadata": {},
   "source": [
    "Transform the country_day_counts to (country, time, counts), where time and counts can be later used for drawing."
   ]
  },
  {
   "cell_type": "code",
   "execution_count": 16,
   "metadata": {
    "collapsed": true
   },
   "outputs": [],
   "source": [
    "country_series = country_day_counts \\\n",
    "    .map(lambda x: (x[0][0], (day2unix(x[0][1]), x[1]))) \\\n",
    "    .groupByKey() \\\n",
    "    .map(lambda x: (x[0], sorted(x[1], key=lambda y: y[0]))) \\\n",
    "    .map(lambda x: (x[0], zip(*x[1]))) \\\n",
    "    .map(lambda x: (x[0], x[1][0], x[1][1]))"
   ]
  },
  {
   "cell_type": "code",
   "execution_count": 17,
   "metadata": {
    "collapsed": false
   },
   "outputs": [
    {
     "data": {
      "text/plain": [
       "(u'MCO',\n",
       " (13046400.0,\n",
       "  13305600.0,\n",
       "  13392000.0,\n",
       "  13478400.0,\n",
       "  13564800.0,\n",
       "  13651200.0,\n",
       "  13996800.0,\n",
       "  14083200.0,\n",
       "  14169600.0,\n",
       "  14256000.0,\n",
       "  14515200.0,\n",
       "  14601600.0,\n",
       "  14688000.0,\n",
       "  14774400.0,\n",
       "  15120000.0,\n",
       "  15552000.0,\n",
       "  15638400.0,\n",
       "  15724800.0,\n",
       "  15811200.0,\n",
       "  15897600.0,\n",
       "  15984000.0,\n",
       "  16070400.0,\n",
       "  16156800.0,\n",
       "  16416000.0,\n",
       "  16502400.0,\n",
       "  16588800.0,\n",
       "  16675200.0,\n",
       "  16934400.0,\n",
       "  17193600.0,\n",
       "  17366400.0,\n",
       "  17452800.0,\n",
       "  17539200.0,\n",
       "  17625600.0,\n",
       "  17712000.0,\n",
       "  18057600.0,\n",
       "  18144000.0,\n",
       "  18748800.0,\n",
       "  18921600.0,\n",
       "  19008000.0,\n",
       "  19094400.0,\n",
       "  19526400.0,\n",
       "  19699200.0,\n",
       "  19785600.0,\n",
       "  20131200.0,\n",
       "  20217600.0,\n",
       "  20304000.0,\n",
       "  20563200.0,\n",
       "  20995200.0,\n",
       "  21081600.0,\n",
       "  21168000.0,\n",
       "  21254400.0,\n",
       "  21427200.0,\n",
       "  21513600.0,\n",
       "  21859200.0,\n",
       "  21945600.0,\n",
       "  22118400.0,\n",
       "  22291200.0,\n",
       "  22377600.0,\n",
       "  22636800.0,\n",
       "  22982400.0,\n",
       "  23068800.0,\n",
       "  23328000.0,\n",
       "  23414400.0,\n",
       "  23587200.0,\n",
       "  23673600.0,\n",
       "  23760000.0,\n",
       "  23846400.0,\n",
       "  24192000.0,\n",
       "  24278400.0,\n",
       "  24364800.0,\n",
       "  24451200.0,\n",
       "  24537600.0,\n",
       "  24883200.0,\n",
       "  24969600.0,\n",
       "  25056000.0,\n",
       "  25488000.0,\n",
       "  25574400.0,\n",
       "  25660800.0,\n",
       "  25747200.0,\n",
       "  25833600.0,\n",
       "  25920000.0,\n",
       "  26006400.0,\n",
       "  26092800.0,\n",
       "  26265600.0,\n",
       "  26352000.0,\n",
       "  26438400.0,\n",
       "  26611200.0,\n",
       "  26697600.0,\n",
       "  26870400.0,\n",
       "  26956800.0,\n",
       "  27216000.0,\n",
       "  27302400.0,\n",
       "  27388800.0,\n",
       "  27561600.0,\n",
       "  27648000.0,\n",
       "  27907200.0,\n",
       "  28252800.0,\n",
       "  28339200.0,\n",
       "  28598400.0,\n",
       "  28684800.0,\n",
       "  28771200.0,\n",
       "  28857600.0,\n",
       "  29030400.0,\n",
       "  29116800.0,\n",
       "  29203200.0,\n",
       "  29289600.0,\n",
       "  29376000.0,\n",
       "  29548800.0,\n",
       "  29721600.0,\n",
       "  29808000.0,\n",
       "  29980800.0,\n",
       "  30067200.0,\n",
       "  30240000.0,\n",
       "  30412800.0,\n",
       "  30499200.0,\n",
       "  30585600.0,\n",
       "  30672000.0,\n",
       "  30931200.0,\n",
       "  31104000.0,\n",
       "  31190400.0),\n",
       " (1,\n",
       "  2,\n",
       "  1,\n",
       "  1,\n",
       "  9,\n",
       "  2,\n",
       "  4,\n",
       "  1,\n",
       "  4,\n",
       "  10,\n",
       "  2,\n",
       "  4,\n",
       "  2,\n",
       "  4,\n",
       "  9,\n",
       "  4,\n",
       "  3,\n",
       "  3,\n",
       "  1,\n",
       "  7,\n",
       "  4,\n",
       "  3,\n",
       "  1,\n",
       "  11,\n",
       "  2,\n",
       "  7,\n",
       "  9,\n",
       "  1,\n",
       "  2,\n",
       "  1,\n",
       "  1,\n",
       "  2,\n",
       "  4,\n",
       "  4,\n",
       "  2,\n",
       "  3,\n",
       "  2,\n",
       "  2,\n",
       "  3,\n",
       "  4,\n",
       "  3,\n",
       "  1,\n",
       "  1,\n",
       "  7,\n",
       "  3,\n",
       "  3,\n",
       "  7,\n",
       "  5,\n",
       "  10,\n",
       "  6,\n",
       "  12,\n",
       "  1,\n",
       "  1,\n",
       "  5,\n",
       "  3,\n",
       "  1,\n",
       "  1,\n",
       "  1,\n",
       "  6,\n",
       "  2,\n",
       "  2,\n",
       "  2,\n",
       "  1,\n",
       "  1,\n",
       "  2,\n",
       "  2,\n",
       "  4,\n",
       "  2,\n",
       "  8,\n",
       "  1,\n",
       "  2,\n",
       "  3,\n",
       "  2,\n",
       "  2,\n",
       "  4,\n",
       "  2,\n",
       "  10,\n",
       "  5,\n",
       "  1,\n",
       "  2,\n",
       "  1,\n",
       "  7,\n",
       "  3,\n",
       "  4,\n",
       "  1,\n",
       "  3,\n",
       "  1,\n",
       "  4,\n",
       "  7,\n",
       "  8,\n",
       "  4,\n",
       "  1,\n",
       "  2,\n",
       "  3,\n",
       "  1,\n",
       "  1,\n",
       "  6,\n",
       "  2,\n",
       "  1,\n",
       "  2,\n",
       "  2,\n",
       "  1,\n",
       "  5,\n",
       "  3,\n",
       "  1,\n",
       "  6,\n",
       "  3,\n",
       "  3,\n",
       "  2,\n",
       "  2,\n",
       "  2,\n",
       "  2,\n",
       "  2,\n",
       "  7,\n",
       "  8,\n",
       "  4,\n",
       "  1,\n",
       "  1,\n",
       "  5,\n",
       "  16))"
      ]
     },
     "execution_count": 17,
     "metadata": {},
     "output_type": "execute_result"
    }
   ],
   "source": [
    "country_series.first()"
   ]
  },
  {
   "cell_type": "code",
   "execution_count": 18,
   "metadata": {
    "collapsed": false
   },
   "outputs": [
    {
     "data": {
      "image/png": "[encoded data removed]",
      "text/plain": [
       "<matplotlib.figure.Figure at 0xae76a6ac>"
      ]
     },
     "metadata": {},
     "output_type": "display_data"
    }
   ],
   "source": [
    "random_color = lambda: '#%02x%02x%02x' % tuple(np.random.randint(0,256,3))\n",
    "fig = plt.figure()\n",
    "ax = fig.add_subplot(111)\n",
    "for (country, times, events) in country_series.takeOrdered(10, lambda x: -sum(x[2])):\n",
    "    t = ax.plot(times, events, lw=1, c=random_color())"
   ]
  },
  {
   "cell_type": "markdown",
   "metadata": {},
   "source": [
    "What's the big spike for the line above?"
   ]
  },
  {
   "cell_type": "code",
   "execution_count": 19,
   "metadata": {
    "collapsed": false
   },
   "outputs": [
    {
     "data": {
      "text/plain": [
       "((u'USA', u'20010912'), 2387)"
      ]
     },
     "execution_count": 19,
     "metadata": {},
     "output_type": "execute_result"
    }
   ],
   "source": [
    "country_day_counts.reduce(lambda x, y: max(x, y, key=lambda z: z[1]))"
   ]
  },
  {
   "cell_type": "markdown",
   "metadata": {},
   "source": [
    "Looks like it was the day after September 11th."
   ]
  },
  {
   "cell_type": "code",
   "execution_count": 20,
   "metadata": {
    "collapsed": true
   },
   "outputs": [],
   "source": [
    "# stop the spark context\n",
    "sc.stop()"
   ]
  },
  {
   "cell_type": "code",
   "execution_count": null,
   "metadata": {
    "collapsed": true
   },
   "outputs": [],
   "source": []
  }
 ],
 "metadata": {
  "kernelspec": {
   "display_name": "Python 2",
   "language": "python",
   "name": "python2"
  },
  "language_info": {
   "codemirror_mode": {
    "name": "ipython",
    "version": 2
   },
   "file_extension": ".py",
   "mimetype": "text/x-python",
   "name": "python",
   "nbconvert_exporter": "python",
   "pygments_lexer": "ipython2",
   "version": "2.7.10"
  }
 },
 "nbformat": 4,
 "nbformat_minor": 0
}
